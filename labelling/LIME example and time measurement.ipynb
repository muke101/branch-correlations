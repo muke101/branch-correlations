{
 "cells": [
  {
   "cell_type": "code",
   "execution_count": 10,
   "id": "d091f37f-1a5c-4f37-b3a3-69308387c9e4",
   "metadata": {},
   "outputs": [],
   "source": [
    "from lime_functions import EvalWrapper, test_input, test_label, dir_tests, dir_config, tensor_to_string\n",
    "from lime.lime_text import LimeTextExplainer\n",
    "import timeit"
   ]
  },
  {
   "cell_type": "markdown",
   "id": "dc6d6ccc-d860-4ce7-90b2-bcb78579f54e",
   "metadata": {},
   "source": [
    "# Timing LIME with example inputs\n",
    "### conclusion wrt time taken:\n",
    "- feature selection:\n",
    "forward_selection > lasso_path > highest_weights\n",
    "\n",
    "- num_features:\n",
    "no effect\n",
    "\n",
    "- num_samples:\n",
    "linear-ish"
   ]
  },
  {
   "cell_type": "code",
   "execution_count": 4,
   "id": "114cabe9-c6fb-43c0-a8fb-e5e174ff6ffd",
   "metadata": {},
   "outputs": [],
   "source": [
    "eval_wrapper = EvalWrapper.from_checkpoint(\n",
    "    dir_tests + \"base_0x40b412_checkpoint.pt\", config_path=dir_config\n",
    ")\n"
   ]
  },
  {
   "cell_type": "markdown",
   "id": "2ba4f72b-6eec-46bd-b8e4-392cae0728b0",
   "metadata": {},
   "source": [
    "## feature selection \n"
   ]
  },
  {
   "cell_type": "code",
   "execution_count": 12,
   "id": "82dd1274-3ce5-4702-9208-5d00d0b0c502",
   "metadata": {},
   "outputs": [
    {
     "name": "stdout",
     "output_type": "stream",
     "text": [
      "10.165329599003599\n"
     ]
    }
   ],
   "source": [
    "def fun():\n",
    "    explainer = LimeTextExplainer(\n",
    "        class_names=[\"not_taken\", \"taken\"],\n",
    "        char_level=False,\n",
    "        split_expression=lambda x: x.split(\" \"),\n",
    "        bow=False,\n",
    "        feature_selection=\"lasso_path\",\n",
    "        mask_string=\"0x000:not_taken\",  # Mask string for unknown addresses\n",
    "    )\n",
    "    \n",
    "    exp = explainer.explain_instance(\n",
    "        tensor_to_string(test_input),\n",
    "        eval_wrapper.probs_from_list_of_strings,\n",
    "        num_features=5,\n",
    "        num_samples=1000,\n",
    "    )\n",
    "\n",
    "    return exp\n",
    "\n",
    "print(timeit.timeit(fun, number=10))"
   ]
  },
  {
   "cell_type": "code",
   "execution_count": 13,
   "id": "9144d351-2ea4-4fbd-aa91-3e5a0e55346a",
   "metadata": {},
   "outputs": [
    {
     "name": "stdout",
     "output_type": "stream",
     "text": [
      "47.384862107996014\n"
     ]
    }
   ],
   "source": [
    "def fun():\n",
    "    explainer = LimeTextExplainer(\n",
    "        class_names=[\"not_taken\", \"taken\"],\n",
    "        char_level=False,\n",
    "        split_expression=lambda x: x.split(\" \"),\n",
    "        bow=False,\n",
    "        feature_selection=\"forward_selection\",\n",
    "        mask_string=\"0x000:not_taken\",  # Mask string for unknown addresses\n",
    "    )\n",
    "    \n",
    "    exp = explainer.explain_instance(\n",
    "        tensor_to_string(test_input),\n",
    "        eval_wrapper.probs_from_list_of_strings,\n",
    "        num_features=5,\n",
    "        num_samples=1000,\n",
    "    )\n",
    "\n",
    "    return exp\n",
    "\n",
    "print(timeit.timeit(fun, number=10))"
   ]
  },
  {
   "cell_type": "code",
   "execution_count": 20,
   "id": "f0edc285-0b97-4177-92c4-6fccf8a9cc4c",
   "metadata": {},
   "outputs": [
    {
     "name": "stdout",
     "output_type": "stream",
     "text": [
      "7.45659661499667\n"
     ]
    }
   ],
   "source": [
    "def fun():\n",
    "    explainer = LimeTextExplainer(\n",
    "        class_names=[\"not_taken\", \"taken\"],\n",
    "        char_level=False,\n",
    "        split_expression=lambda x: x.split(\" \"),\n",
    "        bow=False,\n",
    "        feature_selection=\"highest_weights\",\n",
    "        mask_string=\"0x000:not_taken\",  # Mask string for unknown addresses\n",
    "    )\n",
    "    \n",
    "    exp = explainer.explain_instance(\n",
    "        tensor_to_string(test_input),\n",
    "        eval_wrapper.probs_from_list_of_strings,\n",
    "        num_features=5,\n",
    "        num_samples=1000,\n",
    "    )\n",
    "\n",
    "    return exp\n",
    "\n",
    "print(timeit.timeit(fun, number=10))"
   ]
  },
  {
   "cell_type": "markdown",
   "id": "63b3ed05-b798-4831-bbda-cc91cefe9626",
   "metadata": {},
   "source": [
    "## number of features"
   ]
  },
  {
   "cell_type": "code",
   "execution_count": 24,
   "id": "20f279d6-7a8e-498d-9dfb-5189a4571956",
   "metadata": {},
   "outputs": [
    {
     "name": "stdout",
     "output_type": "stream",
     "text": [
      "7.758026807998249\n"
     ]
    }
   ],
   "source": [
    "explainer = LimeTextExplainer(\n",
    "    class_names=[\"not_taken\", \"taken\"],\n",
    "    char_level=False,\n",
    "    split_expression=lambda x: x.split(\" \"),\n",
    "    bow=False,\n",
    "    feature_selection=\"highest_weights\",\n",
    "    mask_string=\"0x000:not_taken\",  # Mask string for unknown addresses\n",
    ")\n",
    "\n",
    "\n",
    "def fun():    \n",
    "    exp = explainer.explain_instance(\n",
    "        tensor_to_string(test_input),\n",
    "        eval_wrapper.probs_from_list_of_strings,\n",
    "        num_features=3,\n",
    "        num_samples=1000,\n",
    "    )\n",
    "\n",
    "    return exp\n",
    "\n",
    "print(timeit.timeit(fun, number=10))"
   ]
  },
  {
   "cell_type": "code",
   "execution_count": 31,
   "id": "6e2deea8-4a61-46c7-9ba9-20a93198c444",
   "metadata": {},
   "outputs": [
    {
     "name": "stdout",
     "output_type": "stream",
     "text": [
      "7.867535765995854\n"
     ]
    }
   ],
   "source": [
    "explainer = LimeTextExplainer(\n",
    "    class_names=[\"not_taken\", \"taken\"],\n",
    "    char_level=False,\n",
    "    split_expression=lambda x: x.split(\" \"),\n",
    "    bow=False,\n",
    "    feature_selection=\"highest_weights\",\n",
    "    mask_string=\"0x000:not_taken\",  # Mask string for unknown addresses\n",
    ")\n",
    "\n",
    "\n",
    "def fun():    \n",
    "    exp = explainer.explain_instance(\n",
    "        tensor_to_string(test_input),\n",
    "        eval_wrapper.probs_from_list_of_strings,\n",
    "        num_features=10,\n",
    "        num_samples=1000,\n",
    "    )\n",
    "\n",
    "    return exp\n",
    "\n",
    "print(timeit.timeit(fun, number=10))"
   ]
  },
  {
   "cell_type": "code",
   "execution_count": 26,
   "id": "b798c5be-83a7-4fab-a0fe-1493e862ddc0",
   "metadata": {},
   "outputs": [
    {
     "name": "stdout",
     "output_type": "stream",
     "text": [
      "10.166847704000247\n"
     ]
    }
   ],
   "source": [
    "explainer = LimeTextExplainer(\n",
    "    class_names=[\"not_taken\", \"taken\"],\n",
    "    char_level=False,\n",
    "    split_expression=lambda x: x.split(\" \"),\n",
    "    bow=False,\n",
    "    feature_selection=\"lasso_path\",\n",
    "    mask_string=\"0x000:not_taken\",  # Mask string for unknown addresses\n",
    ")\n",
    "    \n",
    "def fun():\n",
    "    exp = explainer.explain_instance(\n",
    "        tensor_to_string(test_input),\n",
    "        eval_wrapper.probs_from_list_of_strings,\n",
    "        num_features=3,\n",
    "        num_samples=1000,\n",
    "    )\n",
    "\n",
    "    return exp\n",
    "\n",
    "print(timeit.timeit(fun, number=10))"
   ]
  },
  {
   "cell_type": "code",
   "execution_count": 32,
   "id": "6f77e033-b5ba-40bf-826b-d511eb650825",
   "metadata": {},
   "outputs": [
    {
     "name": "stdout",
     "output_type": "stream",
     "text": [
      "9.867470170996967\n"
     ]
    }
   ],
   "source": [
    "explainer = LimeTextExplainer(\n",
    "    class_names=[\"not_taken\", \"taken\"],\n",
    "    char_level=False,\n",
    "    split_expression=lambda x: x.split(\" \"),\n",
    "    bow=False,\n",
    "    feature_selection=\"lasso_path\",\n",
    "    mask_string=\"0x000:not_taken\",  # Mask string for unknown addresses\n",
    ")\n",
    "    \n",
    "def fun():\n",
    "    exp = explainer.explain_instance(\n",
    "        tensor_to_string(test_input),\n",
    "        eval_wrapper.probs_from_list_of_strings,\n",
    "        num_features=10,\n",
    "        num_samples=1000,\n",
    "    )\n",
    "\n",
    "    return exp\n",
    "\n",
    "print(timeit.timeit(fun, number=10))"
   ]
  },
  {
   "cell_type": "markdown",
   "id": "e07e7e7f-c265-445e-bf65-d55b7ce99ac0",
   "metadata": {},
   "source": [
    "## number of samples"
   ]
  },
  {
   "cell_type": "code",
   "execution_count": 27,
   "id": "0bc9ff93-8eaa-4673-b5fc-e7d3e13896d8",
   "metadata": {},
   "outputs": [
    {
     "name": "stdout",
     "output_type": "stream",
     "text": [
      "15.332322606998787\n"
     ]
    }
   ],
   "source": [
    "explainer = LimeTextExplainer(\n",
    "    class_names=[\"not_taken\", \"taken\"],\n",
    "    char_level=False,\n",
    "    split_expression=lambda x: x.split(\" \"),\n",
    "    bow=False,\n",
    "    feature_selection=\"highest_weights\",\n",
    "    mask_string=\"0x000:not_taken\",  # Mask string for unknown addresses\n",
    ")\n",
    "\n",
    "\n",
    "def fun():    \n",
    "    exp = explainer.explain_instance(\n",
    "        tensor_to_string(test_input),\n",
    "        eval_wrapper.probs_from_list_of_strings,\n",
    "        num_features=3,\n",
    "        num_samples=2000,\n",
    "    )\n",
    "\n",
    "    return exp\n",
    "\n",
    "print(timeit.timeit(fun, number=10))"
   ]
  },
  {
   "cell_type": "code",
   "execution_count": 28,
   "id": "f46c8200-b583-4435-be18-843f57b7eaea",
   "metadata": {},
   "outputs": [
    {
     "name": "stdout",
     "output_type": "stream",
     "text": [
      "30.230905308999354\n"
     ]
    }
   ],
   "source": [
    "explainer = LimeTextExplainer(\n",
    "    class_names=[\"not_taken\", \"taken\"],\n",
    "    char_level=False,\n",
    "    split_expression=lambda x: x.split(\" \"),\n",
    "    bow=False,\n",
    "    feature_selection=\"highest_weights\",\n",
    "    mask_string=\"0x000:not_taken\",  # Mask string for unknown addresses\n",
    ")\n",
    "    \n",
    "def fun():\n",
    "    exp = explainer.explain_instance(\n",
    "        tensor_to_string(test_input),\n",
    "        eval_wrapper.probs_from_list_of_strings,\n",
    "        num_features=3,\n",
    "        num_samples=4000,\n",
    "    )\n",
    "\n",
    "    return exp\n",
    "\n",
    "print(timeit.timeit(fun, number=10))"
   ]
  },
  {
   "cell_type": "code",
   "execution_count": 29,
   "id": "c39d00a8-4e7a-40d6-b136-be5c06f975bd",
   "metadata": {},
   "outputs": [
    {
     "name": "stdout",
     "output_type": "stream",
     "text": [
      "20.215615545996116\n"
     ]
    }
   ],
   "source": [
    "explainer = LimeTextExplainer(\n",
    "    class_names=[\"not_taken\", \"taken\"],\n",
    "    char_level=False,\n",
    "    split_expression=lambda x: x.split(\" \"),\n",
    "    bow=False,\n",
    "    feature_selection=\"lasso_path\",\n",
    "    mask_string=\"0x000:not_taken\",  # Mask string for unknown addresses\n",
    ")\n",
    "\n",
    "def fun():\n",
    "    exp = explainer.explain_instance(\n",
    "        tensor_to_string(test_input),\n",
    "        eval_wrapper.probs_from_list_of_strings,\n",
    "        num_features=3,\n",
    "        num_samples=2000,\n",
    "    )\n",
    "\n",
    "    return exp\n",
    "\n",
    "print(timeit.timeit(fun, number=10))"
   ]
  },
  {
   "cell_type": "code",
   "execution_count": 30,
   "id": "b3de76b7-f8cf-4e9d-af53-38808bc8f41e",
   "metadata": {},
   "outputs": [
    {
     "name": "stdout",
     "output_type": "stream",
     "text": [
      "49.491789912004606\n"
     ]
    }
   ],
   "source": [
    "explainer = LimeTextExplainer(\n",
    "    class_names=[\"not_taken\", \"taken\"],\n",
    "    char_level=False,\n",
    "    split_expression=lambda x: x.split(\" \"),\n",
    "    bow=False,\n",
    "    feature_selection=\"lasso_path\",\n",
    "    mask_string=\"0x000:not_taken\",  # Mask string for unknown addresses\n",
    ")\n",
    "\n",
    "\n",
    "def fun():\n",
    "    exp = explainer.explain_instance(\n",
    "        tensor_to_string(test_input),\n",
    "        eval_wrapper.probs_from_list_of_strings,\n",
    "        num_features=3,\n",
    "        num_samples=4000,\n",
    "    )\n",
    "\n",
    "    return exp\n",
    "\n",
    "print(timeit.timeit(fun, number=10))"
   ]
  },
  {
   "cell_type": "markdown",
   "id": "c98f33f0-4633-4027-96cc-67f4a2cb5b0a",
   "metadata": {},
   "source": []
  }
 ],
 "metadata": {
  "kernelspec": {
   "display_name": "Python 3 (ipykernel)",
   "language": "python",
   "name": "python3"
  },
  "language_info": {
   "codemirror_mode": {
    "name": "ipython",
    "version": 3
   },
   "file_extension": ".py",
   "mimetype": "text/x-python",
   "name": "python",
   "nbconvert_exporter": "python",
   "pygments_lexer": "ipython3",
   "version": "3.12.9"
  }
 },
 "nbformat": 4,
 "nbformat_minor": 5
}
